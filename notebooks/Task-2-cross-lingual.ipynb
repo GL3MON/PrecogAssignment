{
 "cells": [
  {
   "cell_type": "code",
   "execution_count": 2,
   "metadata": {
    "colab": {
     "base_uri": "https://localhost:8080/"
    },
    "execution": {
     "iopub.execute_input": "2025-08-23T20:17:38.262694Z",
     "iopub.status.busy": "2025-08-23T20:17:38.262407Z",
     "iopub.status.idle": "2025-08-23T20:19:13.948913Z",
     "shell.execute_reply": "2025-08-23T20:19:13.947210Z",
     "shell.execute_reply.started": "2025-08-23T20:17:38.262672Z"
    },
    "id": "c-FxAZViUI9X",
    "outputId": "3b39ed3b-0a3b-4da6-bc94-9e47e68fc27e",
    "trusted": true
   },
   "outputs": [
    {
     "name": "stdout",
     "output_type": "stream",
     "text": [
      "Requirement already satisfied: fasttext in /usr/local/lib/python3.11/dist-packages (0.9.3)\n",
      "Requirement already satisfied: nltk in /usr/local/lib/python3.11/dist-packages (3.9.1)\n",
      "Collecting stanza\n",
      "  Downloading stanza-1.10.1-py3-none-any.whl.metadata (13 kB)\n",
      "Requirement already satisfied: pybind11>=2.2 in /usr/local/lib/python3.11/dist-packages (from fasttext) (2.13.6)\n",
      "Requirement already satisfied: setuptools>=0.7.0 in /usr/local/lib/python3.11/dist-packages (from fasttext) (75.2.0)\n",
      "Requirement already satisfied: numpy in /usr/local/lib/python3.11/dist-packages (from fasttext) (1.26.4)\n",
      "Requirement already satisfied: click in /usr/local/lib/python3.11/dist-packages (from nltk) (8.2.1)\n",
      "Requirement already satisfied: joblib in /usr/local/lib/python3.11/dist-packages (from nltk) (1.5.1)\n",
      "Requirement already satisfied: regex>=2021.8.3 in /usr/local/lib/python3.11/dist-packages (from nltk) (2024.11.6)\n",
      "Requirement already satisfied: tqdm in /usr/local/lib/python3.11/dist-packages (from nltk) (4.67.1)\n",
      "Requirement already satisfied: emoji in /usr/local/lib/python3.11/dist-packages (from stanza) (2.14.1)\n",
      "Requirement already satisfied: protobuf>=3.15.0 in /usr/local/lib/python3.11/dist-packages (from stanza) (3.20.3)\n",
      "Requirement already satisfied: requests in /usr/local/lib/python3.11/dist-packages (from stanza) (2.32.4)\n",
      "Requirement already satisfied: networkx in /usr/local/lib/python3.11/dist-packages (from stanza) (3.5)\n",
      "Requirement already satisfied: torch>=1.3.0 in /usr/local/lib/python3.11/dist-packages (from stanza) (2.6.0+cu124)\n",
      "Requirement already satisfied: filelock in /usr/local/lib/python3.11/dist-packages (from torch>=1.3.0->stanza) (3.18.0)\n",
      "Requirement already satisfied: typing-extensions>=4.10.0 in /usr/local/lib/python3.11/dist-packages (from torch>=1.3.0->stanza) (4.14.0)\n",
      "Requirement already satisfied: jinja2 in /usr/local/lib/python3.11/dist-packages (from torch>=1.3.0->stanza) (3.1.6)\n",
      "Requirement already satisfied: fsspec in /usr/local/lib/python3.11/dist-packages (from torch>=1.3.0->stanza) (2025.5.1)\n",
      "Collecting nvidia-cuda-nvrtc-cu12==12.4.127 (from torch>=1.3.0->stanza)\n",
      "  Downloading nvidia_cuda_nvrtc_cu12-12.4.127-py3-none-manylinux2014_x86_64.whl.metadata (1.5 kB)\n",
      "Collecting nvidia-cuda-runtime-cu12==12.4.127 (from torch>=1.3.0->stanza)\n",
      "  Downloading nvidia_cuda_runtime_cu12-12.4.127-py3-none-manylinux2014_x86_64.whl.metadata (1.5 kB)\n",
      "Collecting nvidia-cuda-cupti-cu12==12.4.127 (from torch>=1.3.0->stanza)\n",
      "  Downloading nvidia_cuda_cupti_cu12-12.4.127-py3-none-manylinux2014_x86_64.whl.metadata (1.6 kB)\n",
      "Collecting nvidia-cudnn-cu12==9.1.0.70 (from torch>=1.3.0->stanza)\n",
      "  Downloading nvidia_cudnn_cu12-9.1.0.70-py3-none-manylinux2014_x86_64.whl.metadata (1.6 kB)\n",
      "Collecting nvidia-cublas-cu12==12.4.5.8 (from torch>=1.3.0->stanza)\n",
      "  Downloading nvidia_cublas_cu12-12.4.5.8-py3-none-manylinux2014_x86_64.whl.metadata (1.5 kB)\n",
      "Collecting nvidia-cufft-cu12==11.2.1.3 (from torch>=1.3.0->stanza)\n",
      "  Downloading nvidia_cufft_cu12-11.2.1.3-py3-none-manylinux2014_x86_64.whl.metadata (1.5 kB)\n",
      "Collecting nvidia-curand-cu12==10.3.5.147 (from torch>=1.3.0->stanza)\n",
      "  Downloading nvidia_curand_cu12-10.3.5.147-py3-none-manylinux2014_x86_64.whl.metadata (1.5 kB)\n",
      "Collecting nvidia-cusolver-cu12==11.6.1.9 (from torch>=1.3.0->stanza)\n",
      "  Downloading nvidia_cusolver_cu12-11.6.1.9-py3-none-manylinux2014_x86_64.whl.metadata (1.6 kB)\n",
      "Collecting nvidia-cusparse-cu12==12.3.1.170 (from torch>=1.3.0->stanza)\n",
      "  Downloading nvidia_cusparse_cu12-12.3.1.170-py3-none-manylinux2014_x86_64.whl.metadata (1.6 kB)\n",
      "Requirement already satisfied: nvidia-cusparselt-cu12==0.6.2 in /usr/local/lib/python3.11/dist-packages (from torch>=1.3.0->stanza) (0.6.2)\n",
      "Requirement already satisfied: nvidia-nccl-cu12==2.21.5 in /usr/local/lib/python3.11/dist-packages (from torch>=1.3.0->stanza) (2.21.5)\n",
      "Requirement already satisfied: nvidia-nvtx-cu12==12.4.127 in /usr/local/lib/python3.11/dist-packages (from torch>=1.3.0->stanza) (12.4.127)\n",
      "Collecting nvidia-nvjitlink-cu12==12.4.127 (from torch>=1.3.0->stanza)\n",
      "  Downloading nvidia_nvjitlink_cu12-12.4.127-py3-none-manylinux2014_x86_64.whl.metadata (1.5 kB)\n",
      "Requirement already satisfied: triton==3.2.0 in /usr/local/lib/python3.11/dist-packages (from torch>=1.3.0->stanza) (3.2.0)\n",
      "Requirement already satisfied: sympy==1.13.1 in /usr/local/lib/python3.11/dist-packages (from torch>=1.3.0->stanza) (1.13.1)\n",
      "Requirement already satisfied: mpmath<1.4,>=1.1.0 in /usr/local/lib/python3.11/dist-packages (from sympy==1.13.1->torch>=1.3.0->stanza) (1.3.0)\n",
      "Requirement already satisfied: mkl_fft in /usr/local/lib/python3.11/dist-packages (from numpy->fasttext) (1.3.8)\n",
      "Requirement already satisfied: mkl_random in /usr/local/lib/python3.11/dist-packages (from numpy->fasttext) (1.2.4)\n",
      "Requirement already satisfied: mkl_umath in /usr/local/lib/python3.11/dist-packages (from numpy->fasttext) (0.1.1)\n",
      "Requirement already satisfied: mkl in /usr/local/lib/python3.11/dist-packages (from numpy->fasttext) (2025.2.0)\n",
      "Requirement already satisfied: tbb4py in /usr/local/lib/python3.11/dist-packages (from numpy->fasttext) (2022.2.0)\n",
      "Requirement already satisfied: mkl-service in /usr/local/lib/python3.11/dist-packages (from numpy->fasttext) (2.4.1)\n",
      "Requirement already satisfied: charset_normalizer<4,>=2 in /usr/local/lib/python3.11/dist-packages (from requests->stanza) (3.4.2)\n",
      "Requirement already satisfied: idna<4,>=2.5 in /usr/local/lib/python3.11/dist-packages (from requests->stanza) (3.10)\n",
      "Requirement already satisfied: urllib3<3,>=1.21.1 in /usr/local/lib/python3.11/dist-packages (from requests->stanza) (2.5.0)\n",
      "Requirement already satisfied: certifi>=2017.4.17 in /usr/local/lib/python3.11/dist-packages (from requests->stanza) (2025.6.15)\n",
      "Requirement already satisfied: MarkupSafe>=2.0 in /usr/local/lib/python3.11/dist-packages (from jinja2->torch>=1.3.0->stanza) (3.0.2)\n",
      "Requirement already satisfied: intel-openmp<2026,>=2024 in /usr/local/lib/python3.11/dist-packages (from mkl->numpy->fasttext) (2024.2.0)\n",
      "Requirement already satisfied: tbb==2022.* in /usr/local/lib/python3.11/dist-packages (from mkl->numpy->fasttext) (2022.2.0)\n",
      "Requirement already satisfied: tcmlib==1.* in /usr/local/lib/python3.11/dist-packages (from tbb==2022.*->mkl->numpy->fasttext) (1.4.0)\n",
      "Requirement already satisfied: intel-cmplr-lib-rt in /usr/local/lib/python3.11/dist-packages (from mkl_umath->numpy->fasttext) (2024.2.0)\n",
      "Requirement already satisfied: intel-cmplr-lib-ur==2024.2.0 in /usr/local/lib/python3.11/dist-packages (from intel-openmp<2026,>=2024->mkl->numpy->fasttext) (2024.2.0)\n",
      "Downloading stanza-1.10.1-py3-none-any.whl (1.1 MB)\n",
      "\u001b[2K   \u001b[90m━━━━━━━━━━━━━━━━━━━━━━━━━━━━━━━━━━━━━━━━\u001b[0m \u001b[32m1.1/1.1 MB\u001b[0m \u001b[31m22.4 MB/s\u001b[0m eta \u001b[36m0:00:00\u001b[0m00:01\u001b[0m\n",
      "\u001b[?25hDownloading nvidia_cublas_cu12-12.4.5.8-py3-none-manylinux2014_x86_64.whl (363.4 MB)\n",
      "\u001b[2K   \u001b[90m━━━━━━━━━━━━━━━━━━━━━━━━━━━━━━━━━━━━━━━━\u001b[0m \u001b[32m363.4/363.4 MB\u001b[0m \u001b[31m4.4 MB/s\u001b[0m eta \u001b[36m0:00:00\u001b[0m:00:01\u001b[0m00:01\u001b[0m\n",
      "\u001b[?25hDownloading nvidia_cuda_cupti_cu12-12.4.127-py3-none-manylinux2014_x86_64.whl (13.8 MB)\n",
      "\u001b[2K   \u001b[90m━━━━━━━━━━━━━━━━━━━━━━━━━━━━━━━━━━━━━━━━\u001b[0m \u001b[32m13.8/13.8 MB\u001b[0m \u001b[31m66.6 MB/s\u001b[0m eta \u001b[36m0:00:00\u001b[0m:00:01\u001b[0m0:01\u001b[0m\n",
      "\u001b[?25hDownloading nvidia_cuda_nvrtc_cu12-12.4.127-py3-none-manylinux2014_x86_64.whl (24.6 MB)\n",
      "\u001b[2K   \u001b[90m━━━━━━━━━━━━━━━━━━━━━━━━━━━━━━━━━━━━━━━━\u001b[0m \u001b[32m24.6/24.6 MB\u001b[0m \u001b[31m54.6 MB/s\u001b[0m eta \u001b[36m0:00:00\u001b[0m:00:01\u001b[0m00:01\u001b[0m\n",
      "\u001b[?25hDownloading nvidia_cuda_runtime_cu12-12.4.127-py3-none-manylinux2014_x86_64.whl (883 kB)\n",
      "\u001b[2K   \u001b[90m━━━━━━━━━━━━━━━━━━━━━━━━━━━━━━━━━━━━━━━━\u001b[0m \u001b[32m883.7/883.7 kB\u001b[0m \u001b[31m34.4 MB/s\u001b[0m eta \u001b[36m0:00:00\u001b[0m\n",
      "\u001b[?25hDownloading nvidia_cudnn_cu12-9.1.0.70-py3-none-manylinux2014_x86_64.whl (664.8 MB)\n",
      "\u001b[2K   \u001b[90m━━━━━━━━━━━━━━━━━━━━━━━━━━━━━━━━━━━━━━━━\u001b[0m \u001b[32m664.8/664.8 MB\u001b[0m \u001b[31m2.3 MB/s\u001b[0m eta \u001b[36m0:00:00\u001b[0m:00:01\u001b[0m00:01\u001b[0m\n",
      "\u001b[?25hDownloading nvidia_cufft_cu12-11.2.1.3-py3-none-manylinux2014_x86_64.whl (211.5 MB)\n",
      "\u001b[2K   \u001b[90m━━━━━━━━━━━━━━━━━━━━━━━━━━━━━━━━━━━━━━━━\u001b[0m \u001b[32m211.5/211.5 MB\u001b[0m \u001b[31m7.2 MB/s\u001b[0m eta \u001b[36m0:00:00\u001b[0m:00:01\u001b[0m00:01\u001b[0m\n",
      "\u001b[?25hDownloading nvidia_curand_cu12-10.3.5.147-py3-none-manylinux2014_x86_64.whl (56.3 MB)\n",
      "\u001b[2K   \u001b[90m━━━━━━━━━━━━━━━━━━━━━━━━━━━━━━━━━━━━━━━━\u001b[0m \u001b[32m56.3/56.3 MB\u001b[0m \u001b[31m13.4 MB/s\u001b[0m eta \u001b[36m0:00:00\u001b[0m00:01\u001b[0m00:01\u001b[0m\n",
      "\u001b[?25hDownloading nvidia_cusolver_cu12-11.6.1.9-py3-none-manylinux2014_x86_64.whl (127.9 MB)\n",
      "\u001b[2K   \u001b[90m━━━━━━━━━━━━━━━━━━━━━━━━━━━━━━━━━━━━━━━━\u001b[0m \u001b[32m127.9/127.9 MB\u001b[0m \u001b[31m2.4 MB/s\u001b[0m eta \u001b[36m0:00:00\u001b[0m:00:01\u001b[0m00:01\u001b[0m\n",
      "\u001b[?25hDownloading nvidia_cusparse_cu12-12.3.1.170-py3-none-manylinux2014_x86_64.whl (207.5 MB)\n",
      "\u001b[2K   \u001b[90m━━━━━━━━━━━━━━━━━━━━━━━━━━━━━━━━━━━━━━━━\u001b[0m \u001b[32m207.5/207.5 MB\u001b[0m \u001b[31m7.3 MB/s\u001b[0m eta \u001b[36m0:00:00\u001b[0m:00:01\u001b[0m00:01\u001b[0m\n",
      "\u001b[?25hDownloading nvidia_nvjitlink_cu12-12.4.127-py3-none-manylinux2014_x86_64.whl (21.1 MB)\n",
      "\u001b[2K   \u001b[90m━━━━━━━━━━━━━━━━━━━━━━━━━━━━━━━━━━━━━━━━\u001b[0m \u001b[32m21.1/21.1 MB\u001b[0m \u001b[31m47.8 MB/s\u001b[0m eta \u001b[36m0:00:00\u001b[0m00:01\u001b[0m00:01\u001b[0mm\n",
      "\u001b[?25hInstalling collected packages: nvidia-nvjitlink-cu12, nvidia-curand-cu12, nvidia-cufft-cu12, nvidia-cuda-runtime-cu12, nvidia-cuda-nvrtc-cu12, nvidia-cuda-cupti-cu12, nvidia-cublas-cu12, nvidia-cusparse-cu12, nvidia-cudnn-cu12, nvidia-cusolver-cu12, stanza\n",
      "  Attempting uninstall: nvidia-nvjitlink-cu12\n",
      "    Found existing installation: nvidia-nvjitlink-cu12 12.5.82\n",
      "    Uninstalling nvidia-nvjitlink-cu12-12.5.82:\n",
      "      Successfully uninstalled nvidia-nvjitlink-cu12-12.5.82\n",
      "  Attempting uninstall: nvidia-curand-cu12\n",
      "    Found existing installation: nvidia-curand-cu12 10.3.6.82\n",
      "    Uninstalling nvidia-curand-cu12-10.3.6.82:\n",
      "      Successfully uninstalled nvidia-curand-cu12-10.3.6.82\n",
      "  Attempting uninstall: nvidia-cufft-cu12\n",
      "    Found existing installation: nvidia-cufft-cu12 11.2.3.61\n",
      "    Uninstalling nvidia-cufft-cu12-11.2.3.61:\n",
      "      Successfully uninstalled nvidia-cufft-cu12-11.2.3.61\n",
      "  Attempting uninstall: nvidia-cuda-runtime-cu12\n",
      "    Found existing installation: nvidia-cuda-runtime-cu12 12.5.82\n",
      "    Uninstalling nvidia-cuda-runtime-cu12-12.5.82:\n",
      "      Successfully uninstalled nvidia-cuda-runtime-cu12-12.5.82\n",
      "  Attempting uninstall: nvidia-cuda-nvrtc-cu12\n",
      "    Found existing installation: nvidia-cuda-nvrtc-cu12 12.5.82\n",
      "    Uninstalling nvidia-cuda-nvrtc-cu12-12.5.82:\n",
      "      Successfully uninstalled nvidia-cuda-nvrtc-cu12-12.5.82\n",
      "  Attempting uninstall: nvidia-cuda-cupti-cu12\n",
      "    Found existing installation: nvidia-cuda-cupti-cu12 12.5.82\n",
      "    Uninstalling nvidia-cuda-cupti-cu12-12.5.82:\n",
      "      Successfully uninstalled nvidia-cuda-cupti-cu12-12.5.82\n",
      "  Attempting uninstall: nvidia-cublas-cu12\n",
      "    Found existing installation: nvidia-cublas-cu12 12.5.3.2\n",
      "    Uninstalling nvidia-cublas-cu12-12.5.3.2:\n",
      "      Successfully uninstalled nvidia-cublas-cu12-12.5.3.2\n",
      "  Attempting uninstall: nvidia-cusparse-cu12\n",
      "    Found existing installation: nvidia-cusparse-cu12 12.5.1.3\n",
      "    Uninstalling nvidia-cusparse-cu12-12.5.1.3:\n",
      "      Successfully uninstalled nvidia-cusparse-cu12-12.5.1.3\n",
      "  Attempting uninstall: nvidia-cudnn-cu12\n",
      "    Found existing installation: nvidia-cudnn-cu12 9.3.0.75\n",
      "    Uninstalling nvidia-cudnn-cu12-9.3.0.75:\n",
      "      Successfully uninstalled nvidia-cudnn-cu12-9.3.0.75\n",
      "  Attempting uninstall: nvidia-cusolver-cu12\n",
      "    Found existing installation: nvidia-cusolver-cu12 11.6.3.83\n",
      "    Uninstalling nvidia-cusolver-cu12-11.6.3.83:\n",
      "      Successfully uninstalled nvidia-cusolver-cu12-11.6.3.83\n",
      "Successfully installed nvidia-cublas-cu12-12.4.5.8 nvidia-cuda-cupti-cu12-12.4.127 nvidia-cuda-nvrtc-cu12-12.4.127 nvidia-cuda-runtime-cu12-12.4.127 nvidia-cudnn-cu12-9.1.0.70 nvidia-cufft-cu12-11.2.1.3 nvidia-curand-cu12-10.3.5.147 nvidia-cusolver-cu12-11.6.1.9 nvidia-cusparse-cu12-12.3.1.170 nvidia-nvjitlink-cu12-12.4.127 stanza-1.10.1\n"
     ]
    }
   ],
   "source": [
    "!pip install fasttext nltk stanza"
   ]
  },
  {
   "cell_type": "code",
   "execution_count": null,
   "metadata": {},
   "outputs": [],
   "source": [
    "!wget -c -P ../models https://dl.fbaipublicfiles.com/fasttext/vectors-crawl/cc.en.300.bin.gz\n",
    "!wget -c -P ../models https://dl.fbaipublicfiles.com/fasttext/vectors-crawl/cc.hi.300.bin.gz"
   ]
  },
  {
   "cell_type": "code",
   "execution_count": null,
   "metadata": {
    "colab": {
     "base_uri": "https://localhost:8080/"
    },
    "execution": {
     "iopub.execute_input": "2025-08-23T20:19:13.952616Z",
     "iopub.status.busy": "2025-08-23T20:19:13.952222Z",
     "iopub.status.idle": "2025-08-23T20:19:14.263685Z",
     "shell.execute_reply": "2025-08-23T20:19:14.262493Z",
     "shell.execute_reply.started": "2025-08-23T20:19:13.952570Z"
    },
    "id": "oTLj8k2HatB7",
    "outputId": "d4579a7d-90c9-4cb7-ca56-8bf2127646a7",
    "trusted": true
   },
   "outputs": [
    {
     "name": "stdout",
     "output_type": "stream",
     "text": [
      "--2025-08-23 20:19:14--  https://dl.fbaipublicfiles.com/arrival/dictionaries/hi-en.txt\n",
      "Resolving dl.fbaipublicfiles.com (dl.fbaipublicfiles.com)... 3.163.189.96, 3.163.189.108, 3.163.189.14, ...\n",
      "Connecting to dl.fbaipublicfiles.com (dl.fbaipublicfiles.com)|3.163.189.96|:443... connected.\n",
      "HTTP request sent, awaiting response... 200 OK\n",
      "Length: 827554 (808K) [text/plain]\n",
      "Saving to: ‘hi-en.txt’\n",
      "\n",
      "hi-en.txt           100%[===================>] 808.16K  --.-KB/s    in 0.04s   \n",
      "\n",
      "2025-08-23 20:19:14 (21.5 MB/s) - ‘hi-en.txt’ saved [827554/827554]\n",
      "\n"
     ]
    }
   ],
   "source": [
    "!wget -c -P ../datasets https://dl.fbaipublicfiles.com/arrival/dictionaries/hi-en.txt"
   ]
  },
  {
   "cell_type": "code",
   "execution_count": null,
   "metadata": {
    "execution": {
     "iopub.execute_input": "2025-08-23T20:19:46.689447Z",
     "iopub.status.busy": "2025-08-23T20:19:46.688977Z",
     "iopub.status.idle": "2025-08-23T20:21:57.361106Z",
     "shell.execute_reply": "2025-08-23T20:21:57.359682Z",
     "shell.execute_reply.started": "2025-08-23T20:19:46.689417Z"
    },
    "id": "3PKN4JwTk2ef",
    "trusted": true
   },
   "outputs": [],
   "source": [
    "!gunzip ../models/cc.en.300.bin.gz\n",
    "!gunzip ../models/cc.hi.300.bin.gz"
   ]
  },
  {
   "cell_type": "code",
   "execution_count": null,
   "metadata": {
    "execution": {
     "iopub.execute_input": "2025-08-23T20:21:57.362941Z",
     "iopub.status.busy": "2025-08-23T20:21:57.362598Z",
     "iopub.status.idle": "2025-08-23T20:22:32.235444Z",
     "shell.execute_reply": "2025-08-23T20:22:32.234532Z",
     "shell.execute_reply.started": "2025-08-23T20:21:57.362905Z"
    },
    "id": "OZd9YVrvkHNV",
    "trusted": true
   },
   "outputs": [],
   "source": [
    "import fasttext\n",
    "en_model = fasttext.load_model(\"../models/cc.en.300.bin\")"
   ]
  },
  {
   "cell_type": "code",
   "execution_count": 7,
   "metadata": {
    "execution": {
     "iopub.execute_input": "2025-08-23T20:22:32.237286Z",
     "iopub.status.busy": "2025-08-23T20:22:32.236875Z",
     "iopub.status.idle": "2025-08-23T20:22:47.693960Z",
     "shell.execute_reply": "2025-08-23T20:22:47.692587Z",
     "shell.execute_reply.started": "2025-08-23T20:22:32.237214Z"
    },
    "trusted": true
   },
   "outputs": [
    {
     "data": {
      "text/plain": [
       "<fasttext.FastText._FastText at 0x7ee3c93e3ad0>"
      ]
     },
     "execution_count": 7,
     "metadata": {},
     "output_type": "execute_result"
    }
   ],
   "source": [
    "import fasttext.util\n",
    "fasttext.util.reduce_model(en_model, 100)"
   ]
  },
  {
   "cell_type": "code",
   "execution_count": null,
   "metadata": {
    "execution": {
     "iopub.execute_input": "2025-08-23T20:22:47.695221Z",
     "iopub.status.busy": "2025-08-23T20:22:47.694978Z",
     "iopub.status.idle": "2025-08-23T20:23:33.881008Z",
     "shell.execute_reply": "2025-08-23T20:23:33.879625Z",
     "shell.execute_reply.started": "2025-08-23T20:22:47.695200Z"
    },
    "trusted": true
   },
   "outputs": [
    {
     "data": {
      "text/plain": [
       "<fasttext.FastText._FastText at 0x7ee3ca254f10>"
      ]
     },
     "execution_count": 8,
     "metadata": {},
     "output_type": "execute_result"
    }
   ],
   "source": [
    "hi_model = fasttext.load_model(\"../models/cc.hi.300.bin\")\n",
    "fasttext.util.reduce_model(hi_model, 100)"
   ]
  },
  {
   "cell_type": "code",
   "execution_count": 9,
   "metadata": {
    "execution": {
     "iopub.execute_input": "2025-08-23T20:23:33.882646Z",
     "iopub.status.busy": "2025-08-23T20:23:33.882228Z",
     "iopub.status.idle": "2025-08-23T20:23:33.888900Z",
     "shell.execute_reply": "2025-08-23T20:23:33.887711Z",
     "shell.execute_reply.started": "2025-08-23T20:23:33.882578Z"
    },
    "id": "O5o7fUjEdIXM",
    "trusted": true
   },
   "outputs": [],
   "source": [
    "def load_dictonary(input_file_path: str):\n",
    "  word_pairs = []\n",
    "  with open(input_file_path, 'r') as file:\n",
    "    for line in file:\n",
    "      hi_word, en_word = line.strip().split('\\t')\n",
    "      if en_word.isalnum():\n",
    "        word_pairs.append(\n",
    "            (\n",
    "                hi_word, en_word\n",
    "            )\n",
    "        )\n",
    "  return word_pairs"
   ]
  },
  {
   "cell_type": "code",
   "execution_count": null,
   "metadata": {
    "execution": {
     "iopub.execute_input": "2025-08-23T20:23:33.890387Z",
     "iopub.status.busy": "2025-08-23T20:23:33.890015Z",
     "iopub.status.idle": "2025-08-23T20:23:33.942156Z",
     "shell.execute_reply": "2025-08-23T20:23:33.941156Z",
     "shell.execute_reply.started": "2025-08-23T20:23:33.890352Z"
    },
    "id": "yVDGUWBTevV8",
    "trusted": true
   },
   "outputs": [],
   "source": [
    "pairs = load_dictonary(\"../datasets/hi-en.txt\")"
   ]
  },
  {
   "cell_type": "code",
   "execution_count": 11,
   "metadata": {
    "execution": {
     "iopub.execute_input": "2025-08-23T20:23:33.945168Z",
     "iopub.status.busy": "2025-08-23T20:23:33.944889Z",
     "iopub.status.idle": "2025-08-23T20:23:35.176184Z",
     "shell.execute_reply": "2025-08-23T20:23:35.175160Z",
     "shell.execute_reply.started": "2025-08-23T20:23:33.945145Z"
    },
    "trusted": true
   },
   "outputs": [],
   "source": [
    "import numpy as np\n",
    "from scipy.linalg import orthogonal_procrustes\n",
    "from sklearn.metrics.pairwise import cosine_similarity"
   ]
  },
  {
   "cell_type": "code",
   "execution_count": 12,
   "metadata": {
    "execution": {
     "iopub.execute_input": "2025-08-23T20:23:35.177519Z",
     "iopub.status.busy": "2025-08-23T20:23:35.177162Z",
     "iopub.status.idle": "2025-08-23T20:23:35.183896Z",
     "shell.execute_reply": "2025-08-23T20:23:35.183016Z",
     "shell.execute_reply.started": "2025-08-23T20:23:35.177499Z"
    },
    "trusted": true
   },
   "outputs": [
    {
     "data": {
      "text/plain": [
       "30923"
      ]
     },
     "execution_count": 12,
     "metadata": {},
     "output_type": "execute_result"
    }
   ],
   "source": [
    "len(pairs)"
   ]
  },
  {
   "cell_type": "code",
   "execution_count": 13,
   "metadata": {
    "execution": {
     "iopub.execute_input": "2025-08-23T20:23:35.184941Z",
     "iopub.status.busy": "2025-08-23T20:23:35.184582Z",
     "iopub.status.idle": "2025-08-23T20:23:35.202628Z",
     "shell.execute_reply": "2025-08-23T20:23:35.201815Z",
     "shell.execute_reply.started": "2025-08-23T20:23:35.184910Z"
    },
    "trusted": true
   },
   "outputs": [
    {
     "data": {
      "text/plain": [
       "('है', 'is')"
      ]
     },
     "execution_count": 13,
     "metadata": {},
     "output_type": "execute_result"
    }
   ],
   "source": [
    "pairs[10]"
   ]
  },
  {
   "cell_type": "code",
   "execution_count": 14,
   "metadata": {
    "execution": {
     "iopub.execute_input": "2025-08-23T20:23:35.204148Z",
     "iopub.status.busy": "2025-08-23T20:23:35.203773Z",
     "iopub.status.idle": "2025-08-23T20:23:35.220860Z",
     "shell.execute_reply": "2025-08-23T20:23:35.219830Z",
     "shell.execute_reply.started": "2025-08-23T20:23:35.204113Z"
    },
    "trusted": true
   },
   "outputs": [],
   "source": [
    "def get_ortho_matrix(en_model, hi_model, word_pairs):\n",
    "    en_vectors = np.array([en_model.get_word_vector(word) for _, word in word_pairs])\n",
    "    hi_vectors = np.array([hi_model.get_word_vector(word) for word, _ in word_pairs])\n",
    "    omega, _ = orthogonal_procrustes(en_vectors, hi_vectors)\n",
    "    return omega"
   ]
  },
  {
   "cell_type": "code",
   "execution_count": 15,
   "metadata": {
    "execution": {
     "iopub.execute_input": "2025-08-23T20:23:35.222344Z",
     "iopub.status.busy": "2025-08-23T20:23:35.221991Z",
     "iopub.status.idle": "2025-08-23T20:23:35.854045Z",
     "shell.execute_reply": "2025-08-23T20:23:35.853068Z",
     "shell.execute_reply.started": "2025-08-23T20:23:35.222303Z"
    },
    "trusted": true
   },
   "outputs": [],
   "source": [
    "omega = get_ortho_matrix(en_model, hi_model, pairs)"
   ]
  },
  {
   "cell_type": "code",
   "execution_count": 16,
   "metadata": {
    "execution": {
     "iopub.execute_input": "2025-08-23T20:23:35.855814Z",
     "iopub.status.busy": "2025-08-23T20:23:35.855426Z",
     "iopub.status.idle": "2025-08-23T20:23:35.871268Z",
     "shell.execute_reply": "2025-08-23T20:23:35.870447Z",
     "shell.execute_reply.started": "2025-08-23T20:23:35.855717Z"
    },
    "trusted": true
   },
   "outputs": [],
   "source": [
    "from tqdm import tqdm"
   ]
  },
  {
   "cell_type": "code",
   "execution_count": 17,
   "metadata": {
    "execution": {
     "iopub.execute_input": "2025-08-23T20:23:35.874403Z",
     "iopub.status.busy": "2025-08-23T20:23:35.874088Z",
     "iopub.status.idle": "2025-08-23T20:23:35.884278Z",
     "shell.execute_reply": "2025-08-23T20:23:35.883381Z",
     "shell.execute_reply.started": "2025-08-23T20:23:35.874380Z"
    },
    "trusted": true
   },
   "outputs": [],
   "source": [
    "from sklearn.metrics.pairwise import cosine_similarity"
   ]
  },
  {
   "cell_type": "code",
   "execution_count": 18,
   "metadata": {
    "execution": {
     "iopub.execute_input": "2025-08-23T20:23:35.888005Z",
     "iopub.status.busy": "2025-08-23T20:23:35.886561Z",
     "iopub.status.idle": "2025-08-23T20:23:35.911118Z",
     "shell.execute_reply": "2025-08-23T20:23:35.908567Z",
     "shell.execute_reply.started": "2025-08-23T20:23:35.887970Z"
    },
    "trusted": true
   },
   "outputs": [
    {
     "data": {
      "text/plain": [
       "('के', 'of')"
      ]
     },
     "execution_count": 18,
     "metadata": {},
     "output_type": "execute_result"
    }
   ],
   "source": [
    "pairs[0]"
   ]
  },
  {
   "cell_type": "code",
   "execution_count": 19,
   "metadata": {
    "execution": {
     "iopub.execute_input": "2025-08-23T20:23:35.913678Z",
     "iopub.status.busy": "2025-08-23T20:23:35.913368Z",
     "iopub.status.idle": "2025-08-23T20:23:35.934360Z",
     "shell.execute_reply": "2025-08-23T20:23:35.933427Z",
     "shell.execute_reply.started": "2025-08-23T20:23:35.913654Z"
    },
    "trusted": true
   },
   "outputs": [],
   "source": [
    "def calculate_precisions(en_model, hi_model, word_pairs, omega, k):\n",
    "    correct_predictions = 0\n",
    "    total = 0\n",
    "    hindi_words = hi_model.get_words()\n",
    "\n",
    "    print(\"Getting Hindi word Vectors\")\n",
    "    hindi_vectors = np.array([hi_model.get_word_vector(word) for word in hindi_words])\n",
    "\n",
    "    print(\"Starting Evaluation\")\n",
    "    for true_hindi_word, english_word in tqdm(word_pairs, desc=f\"Calculating Precision@{k}\"):\n",
    "        if english_word not in en_model.get_words() or true_hindi_word not in hindi_words:\n",
    "            continue\n",
    "        english_vector = en_model.get_word_vector(english_word)\n",
    "        map_vector = np.dot(english_vector, omega)\n",
    "    \n",
    "        distances = np.linalg.norm(hindi_vectors - map_vector, axis=1)\n",
    "        top_k_indices = np.argsort(distances)[:k]\n",
    "        top_k_words = [list(hindi_words)[i] for i in top_k_indices]\n",
    "        print(f\"English word: {english_word} True Hindi word: {true_hindi_word}\")\n",
    "        print(f\"Top K words: {top_k_words}\")\n",
    "        if true_hindi_word in top_k_words:\n",
    "          correct_predictions += 1\n",
    "        total += 1\n",
    "        \n",
    "    precision = correct_predictions / total if total > 0 else 0\n",
    "    return precision*100"
   ]
  },
  {
   "cell_type": "code",
   "execution_count": 20,
   "metadata": {
    "execution": {
     "iopub.execute_input": "2025-08-23T20:23:35.937902Z",
     "iopub.status.busy": "2025-08-23T20:23:35.937561Z",
     "iopub.status.idle": "2025-08-23T20:23:58.793235Z",
     "shell.execute_reply": "2025-08-23T20:23:58.792353Z",
     "shell.execute_reply.started": "2025-08-23T20:23:35.937878Z"
    },
    "trusted": true
   },
   "outputs": [
    {
     "data": {
      "application/vnd.jupyter.widget-view+json": {
       "model_id": "82f2ed9920ee4988ae6ede96c58b2b0e",
       "version_major": 2,
       "version_minor": 0
      },
      "text/plain": [
       "Downloading https://raw.githubusercontent.com/stanfordnlp/stanza-resources/main/resources_1.10.0.json:   0%|  …"
      ]
     },
     "metadata": {},
     "output_type": "display_data"
    },
    {
     "data": {
      "application/vnd.jupyter.widget-view+json": {
       "model_id": "34ffbca386cd4ce1a16b8475efa568a3",
       "version_major": 2,
       "version_minor": 0
      },
      "text/plain": [
       "Downloading https://huggingface.co/stanfordnlp/stanza-hi/resolve/v1.10.0/models/default.zip:   0%|          | …"
      ]
     },
     "metadata": {},
     "output_type": "display_data"
    },
    {
     "data": {
      "application/vnd.jupyter.widget-view+json": {
       "model_id": "2cc5f0d3f1584062919d3ae36a7b969b",
       "version_major": 2,
       "version_minor": 0
      },
      "text/plain": [
       "Downloading https://raw.githubusercontent.com/stanfordnlp/stanza-resources/main/resources_1.10.0.json:   0%|  …"
      ]
     },
     "metadata": {},
     "output_type": "display_data"
    }
   ],
   "source": [
    "import stanza\n",
    "stanza.download('hi')\n",
    "\n",
    "pos_tagger = stanza.Pipeline('hi')"
   ]
  },
  {
   "cell_type": "code",
   "execution_count": 21,
   "metadata": {
    "execution": {
     "iopub.execute_input": "2025-08-23T20:23:58.794701Z",
     "iopub.status.busy": "2025-08-23T20:23:58.794185Z",
     "iopub.status.idle": "2025-08-23T20:23:59.035432Z",
     "shell.execute_reply": "2025-08-23T20:23:59.034496Z",
     "shell.execute_reply.started": "2025-08-23T20:23:58.794676Z"
    },
    "trusted": true
   },
   "outputs": [
    {
     "data": {
      "text/plain": [
       "'NOUN'"
      ]
     },
     "execution_count": 21,
     "metadata": {},
     "output_type": "execute_result"
    }
   ],
   "source": [
    "pos_tagger('प्रकार').sentences[0].words[0].upos"
   ]
  },
  {
   "cell_type": "code",
   "execution_count": 22,
   "metadata": {
    "execution": {
     "iopub.execute_input": "2025-08-23T20:23:59.036635Z",
     "iopub.status.busy": "2025-08-23T20:23:59.036375Z",
     "iopub.status.idle": "2025-08-23T20:23:59.042603Z",
     "shell.execute_reply": "2025-08-23T20:23:59.041672Z",
     "shell.execute_reply.started": "2025-08-23T20:23:59.036614Z"
    },
    "trusted": true
   },
   "outputs": [
    {
     "data": {
      "text/plain": [
       "('के', 'of')"
      ]
     },
     "execution_count": 22,
     "metadata": {},
     "output_type": "execute_result"
    }
   ],
   "source": [
    "pairs[0]"
   ]
  },
  {
   "cell_type": "code",
   "execution_count": 26,
   "metadata": {
    "execution": {
     "iopub.execute_input": "2025-08-23T20:28:35.042408Z",
     "iopub.status.busy": "2025-08-23T20:28:35.040880Z",
     "iopub.status.idle": "2025-08-23T20:30:03.246934Z",
     "shell.execute_reply": "2025-08-23T20:30:03.246141Z",
     "shell.execute_reply.started": "2025-08-23T20:28:35.042360Z"
    },
    "trusted": true
   },
   "outputs": [
    {
     "name": "stderr",
     "output_type": "stream",
     "text": [
      "POS Tagging words...: 100%|██████████| 1000/1000 [01:28<00:00, 11.34it/s]\n"
     ]
    }
   ],
   "source": [
    "tagged_words = {}\n",
    "test_set = pairs[:1000]\n",
    "\n",
    "for word_pair in tqdm(test_set, total=len(test_set), desc=\"POS Tagging words...\"):\n",
    "    tag = pos_tagger(word_pair[0]).sentences[0].words[0].upos\n",
    "    if tag not in tagged_words:\n",
    "        tagged_words[tag] = [word_pair]\n",
    "    else:\n",
    "        tagged_words[tag].append(word_pair)"
   ]
  },
  {
   "cell_type": "code",
   "execution_count": 33,
   "metadata": {
    "execution": {
     "iopub.execute_input": "2025-08-23T20:35:30.324560Z",
     "iopub.status.busy": "2025-08-23T20:35:30.324044Z",
     "iopub.status.idle": "2025-08-23T20:35:30.333458Z",
     "shell.execute_reply": "2025-08-23T20:35:30.332251Z",
     "shell.execute_reply.started": "2025-08-23T20:35:30.324525Z"
    },
    "trusted": true
   },
   "outputs": [
    {
     "data": {
      "text/plain": [
       "dict_keys(['ADP', 'CCONJ', 'AUX', 'NUM', 'NOUN', 'PART', 'VERB', 'PRON', 'DET', 'SCONJ', 'PROPN', 'ADV', 'ADJ'])"
      ]
     },
     "execution_count": 33,
     "metadata": {},
     "output_type": "execute_result"
    }
   ],
   "source": [
    "tagged_words.keys()"
   ]
  },
  {
   "cell_type": "code",
   "execution_count": null,
   "metadata": {
    "trusted": true
   },
   "outputs": [],
   "source": [
    "tagged_words"
   ]
  },
  {
   "cell_type": "code",
   "execution_count": null,
   "metadata": {
    "trusted": true
   },
   "outputs": [],
   "source": [
    "import random\n",
    "calculate_precisions(en_model, hi_model,test_set, omega, 20)"
   ]
  }
 ],
 "metadata": {
  "colab": {
   "provenance": []
  },
  "kaggle": {
   "accelerator": "none",
   "dataSources": [],
   "dockerImageVersionId": 31089,
   "isGpuEnabled": false,
   "isInternetEnabled": true,
   "language": "python",
   "sourceType": "notebook"
  },
  "kernelspec": {
   "display_name": "Python 3",
   "language": "python",
   "name": "python3"
  },
  "language_info": {
   "codemirror_mode": {
    "name": "ipython",
    "version": 3
   },
   "file_extension": ".py",
   "mimetype": "text/x-python",
   "name": "python",
   "nbconvert_exporter": "python",
   "pygments_lexer": "ipython3",
   "version": "3.11.13"
  }
 },
 "nbformat": 4,
 "nbformat_minor": 4
}
